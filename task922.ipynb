{
 "cells": [
  {
   "cell_type": "code",
   "execution_count": 19,
   "id": "406a4eba",
   "metadata": {},
   "outputs": [
    {
     "name": "stdout",
     "output_type": "stream",
     "text": [
      "Weird\n",
      "None\n"
     ]
    }
   ],
   "source": [
    "def task(n):\n",
    "    if n %2!= 0:\n",
    "        print('Weird')\n",
    "    elif n%2== 0 and n in range(2,6):\n",
    "            print('Not Weird')\n",
    "    elif n%2== 0 and n in range(6,21):\n",
    "            print ('Weird')\n",
    "    elif n%2== 0 and n>20:\n",
    "            print ('Not Weird')\n",
    "print(task(3))"
   ]
  },
  {
   "cell_type": "code",
   "execution_count": 20,
   "id": "7276e7df",
   "metadata": {},
   "outputs": [
    {
     "name": "stdout",
     "output_type": "stream",
     "text": [
      "Not Weird\n"
     ]
    }
   ],
   "source": [
    "task(24)"
   ]
  },
  {
   "cell_type": "code",
   "execution_count": null,
   "id": "23e12c78",
   "metadata": {},
   "outputs": [],
   "source": []
  }
 ],
 "metadata": {
  "kernelspec": {
   "display_name": "Python 3 (ipykernel)",
   "language": "python",
   "name": "python3"
  },
  "language_info": {
   "codemirror_mode": {
    "name": "ipython",
    "version": 3
   },
   "file_extension": ".py",
   "mimetype": "text/x-python",
   "name": "python",
   "nbconvert_exporter": "python",
   "pygments_lexer": "ipython3",
   "version": "3.9.7"
  }
 },
 "nbformat": 4,
 "nbformat_minor": 5
}
